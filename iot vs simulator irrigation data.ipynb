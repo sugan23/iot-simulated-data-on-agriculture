{
 "cells": [
  {
   "cell_type": "code",
   "execution_count": 1,
   "id": "afb77a56",
   "metadata": {},
   "outputs": [],
   "source": [
    "import pandas as pd \n",
    "import numpy as np\n",
    "import matplotlib.pyplot as plt"
   ]
  },
  {
   "cell_type": "code",
   "execution_count": 2,
   "id": "db623c87",
   "metadata": {},
   "outputs": [],
   "source": [
    "######Objective 1: To gather and preprocess comprehensive data on soil and moisture conditions using existing IoT \n",
    "#############      datasets and simulators.\n"
   ]
  },
  {
   "cell_type": "code",
   "execution_count": 3,
   "id": "3c21b419",
   "metadata": {},
   "outputs": [],
   "source": [
    "data= pd.read_csv(\"C:\\\\Users\\\\RAJESH KUMAR\\\\Documents\\\\irrigation system\\\\data.csv\")"
   ]
  },
  {
   "cell_type": "code",
   "execution_count": 4,
   "id": "16dfa389",
   "metadata": {},
   "outputs": [
    {
     "data": {
      "text/html": [
       "<div>\n",
       "<style scoped>\n",
       "    .dataframe tbody tr th:only-of-type {\n",
       "        vertical-align: middle;\n",
       "    }\n",
       "\n",
       "    .dataframe tbody tr th {\n",
       "        vertical-align: top;\n",
       "    }\n",
       "\n",
       "    .dataframe thead th {\n",
       "        text-align: right;\n",
       "    }\n",
       "</style>\n",
       "<table border=\"1\" class=\"dataframe\">\n",
       "  <thead>\n",
       "    <tr style=\"text-align: right;\">\n",
       "      <th></th>\n",
       "      <th>crop</th>\n",
       "      <th>moisture</th>\n",
       "      <th>temp</th>\n",
       "      <th>pump</th>\n",
       "    </tr>\n",
       "  </thead>\n",
       "  <tbody>\n",
       "    <tr>\n",
       "      <th>0</th>\n",
       "      <td>cotton</td>\n",
       "      <td>638</td>\n",
       "      <td>16</td>\n",
       "      <td>1</td>\n",
       "    </tr>\n",
       "    <tr>\n",
       "      <th>1</th>\n",
       "      <td>cotton</td>\n",
       "      <td>522</td>\n",
       "      <td>18</td>\n",
       "      <td>1</td>\n",
       "    </tr>\n",
       "    <tr>\n",
       "      <th>2</th>\n",
       "      <td>cotton</td>\n",
       "      <td>741</td>\n",
       "      <td>22</td>\n",
       "      <td>1</td>\n",
       "    </tr>\n",
       "    <tr>\n",
       "      <th>3</th>\n",
       "      <td>cotton</td>\n",
       "      <td>798</td>\n",
       "      <td>32</td>\n",
       "      <td>1</td>\n",
       "    </tr>\n",
       "    <tr>\n",
       "      <th>4</th>\n",
       "      <td>cotton</td>\n",
       "      <td>690</td>\n",
       "      <td>28</td>\n",
       "      <td>1</td>\n",
       "    </tr>\n",
       "  </tbody>\n",
       "</table>\n",
       "</div>"
      ],
      "text/plain": [
       "     crop  moisture  temp  pump\n",
       "0  cotton       638    16     1\n",
       "1  cotton       522    18     1\n",
       "2  cotton       741    22     1\n",
       "3  cotton       798    32     1\n",
       "4  cotton       690    28     1"
      ]
     },
     "execution_count": 4,
     "metadata": {},
     "output_type": "execute_result"
    }
   ],
   "source": [
    "data.head()"
   ]
  },
  {
   "cell_type": "code",
   "execution_count": 5,
   "id": "7094d37d",
   "metadata": {},
   "outputs": [
    {
     "data": {
      "text/html": [
       "<div>\n",
       "<style scoped>\n",
       "    .dataframe tbody tr th:only-of-type {\n",
       "        vertical-align: middle;\n",
       "    }\n",
       "\n",
       "    .dataframe tbody tr th {\n",
       "        vertical-align: top;\n",
       "    }\n",
       "\n",
       "    .dataframe thead th {\n",
       "        text-align: right;\n",
       "    }\n",
       "</style>\n",
       "<table border=\"1\" class=\"dataframe\">\n",
       "  <thead>\n",
       "    <tr style=\"text-align: right;\">\n",
       "      <th></th>\n",
       "      <th>moisture</th>\n",
       "      <th>temp</th>\n",
       "      <th>pump</th>\n",
       "    </tr>\n",
       "  </thead>\n",
       "  <tbody>\n",
       "    <tr>\n",
       "      <th>count</th>\n",
       "      <td>200.000000</td>\n",
       "      <td>200.000000</td>\n",
       "      <td>200.000000</td>\n",
       "    </tr>\n",
       "    <tr>\n",
       "      <th>mean</th>\n",
       "      <td>633.085000</td>\n",
       "      <td>27.750000</td>\n",
       "      <td>0.750000</td>\n",
       "    </tr>\n",
       "    <tr>\n",
       "      <th>std</th>\n",
       "      <td>279.077118</td>\n",
       "      <td>10.869602</td>\n",
       "      <td>0.434099</td>\n",
       "    </tr>\n",
       "    <tr>\n",
       "      <th>min</th>\n",
       "      <td>4.000000</td>\n",
       "      <td>10.000000</td>\n",
       "      <td>0.000000</td>\n",
       "    </tr>\n",
       "    <tr>\n",
       "      <th>25%</th>\n",
       "      <td>500.500000</td>\n",
       "      <td>18.000000</td>\n",
       "      <td>0.750000</td>\n",
       "    </tr>\n",
       "    <tr>\n",
       "      <th>50%</th>\n",
       "      <td>693.500000</td>\n",
       "      <td>28.000000</td>\n",
       "      <td>1.000000</td>\n",
       "    </tr>\n",
       "    <tr>\n",
       "      <th>75%</th>\n",
       "      <td>850.750000</td>\n",
       "      <td>38.000000</td>\n",
       "      <td>1.000000</td>\n",
       "    </tr>\n",
       "    <tr>\n",
       "      <th>max</th>\n",
       "      <td>1022.000000</td>\n",
       "      <td>45.000000</td>\n",
       "      <td>1.000000</td>\n",
       "    </tr>\n",
       "  </tbody>\n",
       "</table>\n",
       "</div>"
      ],
      "text/plain": [
       "          moisture        temp        pump\n",
       "count   200.000000  200.000000  200.000000\n",
       "mean    633.085000   27.750000    0.750000\n",
       "std     279.077118   10.869602    0.434099\n",
       "min       4.000000   10.000000    0.000000\n",
       "25%     500.500000   18.000000    0.750000\n",
       "50%     693.500000   28.000000    1.000000\n",
       "75%     850.750000   38.000000    1.000000\n",
       "max    1022.000000   45.000000    1.000000"
      ]
     },
     "execution_count": 5,
     "metadata": {},
     "output_type": "execute_result"
    }
   ],
   "source": [
    "data.describe()"
   ]
  },
  {
   "cell_type": "code",
   "execution_count": 6,
   "id": "5fff805f",
   "metadata": {},
   "outputs": [
    {
     "name": "stdout",
     "output_type": "stream",
     "text": [
      "<class 'pandas.core.frame.DataFrame'>\n",
      "RangeIndex: 200 entries, 0 to 199\n",
      "Data columns (total 4 columns):\n",
      " #   Column    Non-Null Count  Dtype \n",
      "---  ------    --------------  ----- \n",
      " 0   crop      200 non-null    object\n",
      " 1   moisture  200 non-null    int64 \n",
      " 2   temp      200 non-null    int64 \n",
      " 3   pump      200 non-null    int64 \n",
      "dtypes: int64(3), object(1)\n",
      "memory usage: 6.4+ KB\n"
     ]
    }
   ],
   "source": [
    "data.info()"
   ]
  },
  {
   "cell_type": "code",
   "execution_count": 7,
   "id": "e9bf1509",
   "metadata": {},
   "outputs": [
    {
     "data": {
      "text/plain": [
       "crop        0\n",
       "moisture    0\n",
       "temp        0\n",
       "pump        0\n",
       "dtype: int64"
      ]
     },
     "execution_count": 7,
     "metadata": {},
     "output_type": "execute_result"
    }
   ],
   "source": [
    "data.isnull().sum()"
   ]
  },
  {
   "cell_type": "code",
   "execution_count": 8,
   "id": "7503deed",
   "metadata": {},
   "outputs": [
    {
     "data": {
      "text/plain": [
       "array(['cotton'], dtype=object)"
      ]
     },
     "execution_count": 8,
     "metadata": {},
     "output_type": "execute_result"
    }
   ],
   "source": [
    "data.crop.unique()"
   ]
  },
  {
   "cell_type": "code",
   "execution_count": 9,
   "id": "6b617355",
   "metadata": {},
   "outputs": [
    {
     "data": {
      "text/plain": [
       "array([1, 0], dtype=int64)"
      ]
     },
     "execution_count": 9,
     "metadata": {},
     "output_type": "execute_result"
    }
   ],
   "source": [
    "data.pump.unique()"
   ]
  },
  {
   "cell_type": "code",
   "execution_count": 10,
   "id": "e3512007",
   "metadata": {},
   "outputs": [],
   "source": [
    "numeric_columns = ['moisture','temp']"
   ]
  },
  {
   "cell_type": "code",
   "execution_count": 11,
   "id": "74196188",
   "metadata": {},
   "outputs": [
    {
     "data": {
      "image/png": "[encoded data removed]",
      "text/plain": [
       "<Figure size 800x400 with 2 Axes>"
      ]
     },
     "metadata": {},
     "output_type": "display_data"
    }
   ],
   "source": [
    "fig, axes = plt.subplots(nrows=1, ncols=len(numeric_columns), figsize=(8, 4))\n",
    "\n",
    "for i, column in enumerate(numeric_columns):\n",
    "    data.boxplot(column=column, ax=axes[i])\n",
    "    axes[i].set_ylabel('Values')\n",
    "\n",
    "plt.tight_layout()\n",
    "plt.show()"
   ]
  },
  {
   "cell_type": "code",
   "execution_count": 12,
   "id": "49b16b12",
   "metadata": {},
   "outputs": [],
   "source": [
    "#### create simulated dataset"
   ]
  },
  {
   "cell_type": "code",
   "execution_count": 13,
   "id": "12e23c2d",
   "metadata": {},
   "outputs": [],
   "source": [
    "# Define the statistics\n",
    "statistics = {\n",
    "    'moisture': {'mean': 633.085, 'std': 279.077118},\n",
    "    'temp': {'mean': 27.75, 'std': 10.869602},\n",
    "\n",
    "}\n",
    "\n",
    "# Define the count\n",
    "count = 200"
   ]
  },
  {
   "cell_type": "code",
   "execution_count": 14,
   "id": "8303ffce",
   "metadata": {},
   "outputs": [],
   "source": [
    "# Generate random data\n",
    "simulated_data = {}\n",
    "for column, params in statistics.items():\n",
    "    mean = params['mean']\n",
    "    std = params['std']\n",
    "    simulated_data[column] = np.random.normal(mean, std, count)"
   ]
  },
  {
   "cell_type": "code",
   "execution_count": 15,
   "id": "c5f9f874",
   "metadata": {},
   "outputs": [],
   "source": [
    "import random"
   ]
  },
  {
   "cell_type": "code",
   "execution_count": 16,
   "id": "36b05762",
   "metadata": {},
   "outputs": [],
   "source": [
    "# Create categorical columns\n",
    "crop_options = ['cotton'] * count\n",
    "pump_options =[random.randint(0, 1) for _ in range(count)]"
   ]
  },
  {
   "cell_type": "code",
   "execution_count": 17,
   "id": "113c3915",
   "metadata": {},
   "outputs": [],
   "source": [
    "# Create DataFrame\n",
    "simulated_data = pd.DataFrame({\n",
    "    'crop': crop_options,\n",
    "    **simulated_data,\n",
    "    'pump': pump_options,\n",
    "})"
   ]
  },
  {
   "cell_type": "code",
   "execution_count": 18,
   "id": "dad24603",
   "metadata": {},
   "outputs": [],
   "source": [
    "simulated_data['moisture'] = simulated_data['moisture'].astype(int)\n",
    "simulated_data['temp'] = simulated_data['temp'].astype(int)"
   ]
  },
  {
   "cell_type": "code",
   "execution_count": 19,
   "id": "f9b28c90",
   "metadata": {},
   "outputs": [
    {
     "name": "stdout",
     "output_type": "stream",
     "text": [
      "       crop  moisture  temp  pump\n",
      "0    cotton       933    22     1\n",
      "1    cotton       847    37     0\n",
      "2    cotton       306    19     0\n",
      "3    cotton        62    37     1\n",
      "4    cotton       563    23     1\n",
      "..      ...       ...   ...   ...\n",
      "195  cotton       672    40     1\n",
      "196  cotton      1012    30     0\n",
      "197  cotton       713    20     1\n",
      "198  cotton      1018    26     0\n",
      "199  cotton       532    43     0\n",
      "\n",
      "[200 rows x 4 columns]\n"
     ]
    }
   ],
   "source": [
    "##### simulated dataset\n",
    "print(simulated_data)"
   ]
  },
  {
   "cell_type": "code",
   "execution_count": 20,
   "id": "2dcb8040",
   "metadata": {},
   "outputs": [
    {
     "name": "stdout",
     "output_type": "stream",
     "text": [
      "       crop  moisture  temp  pump\n",
      "0    cotton       638    16     1\n",
      "1    cotton       522    18     1\n",
      "2    cotton       741    22     1\n",
      "3    cotton       798    32     1\n",
      "4    cotton       690    28     1\n",
      "..      ...       ...   ...   ...\n",
      "195  cotton       941    13     1\n",
      "196  cotton       902    45     1\n",
      "197  cotton       894    42     1\n",
      "198  cotton      1022    45     1\n",
      "199  cotton       979    10     1\n",
      "\n",
      "[200 rows x 4 columns]\n"
     ]
    }
   ],
   "source": [
    "#### IOT dataset\n",
    "print(data)"
   ]
  },
  {
   "cell_type": "code",
   "execution_count": 21,
   "id": "4c5e2acc",
   "metadata": {},
   "outputs": [],
   "source": [
    "### Research Question 1: How can existing IoT datasets and simulators be synergistically utilized to gather and preprocess \n",
    "######                  data on soil and moisture conditions for enhancing crop production?"
   ]
  },
  {
   "cell_type": "code",
   "execution_count": 22,
   "id": "0e3ab774",
   "metadata": {},
   "outputs": [],
   "source": [
    "##    Create new features or transformations(feature engineering)\n",
    "##    Combine real-world data with simulated data to create a more comprehensive dataset (MERGING)\n",
    "##    Explore correlations between soil properties, moisture levels, and crop growth.(EDA)\n"
   ]
  },
  {
   "cell_type": "code",
   "execution_count": 23,
   "id": "d857537a",
   "metadata": {},
   "outputs": [],
   "source": [
    "##################################################################################################"
   ]
  },
  {
   "cell_type": "code",
   "execution_count": 24,
   "id": "062c7c19",
   "metadata": {},
   "outputs": [],
   "source": [
    "##  Objective 2: To apply machine learning techniques on the gathered data to predict optimal crop yield conditions based \n",
    "##               on soil and moisture parameters.\n"
   ]
  },
  {
   "cell_type": "code",
   "execution_count": 69,
   "id": "ba1c2855",
   "metadata": {},
   "outputs": [],
   "source": [
    "from sklearn.model_selection import train_test_split\n",
    "from sklearn.ensemble import RandomForestClassifier\n",
    "from sklearn.neighbors import KNeighborsClassifier\n",
    "from sklearn.metrics import accuracy_score \n",
    "from sklearn.metrics import precision_score \n",
    "from sklearn.metrics import f1_score"
   ]
  },
  {
   "cell_type": "code",
   "execution_count": 70,
   "id": "4cdc7087",
   "metadata": {},
   "outputs": [],
   "source": [
    "# Concatenate the DataFrames vertically\n",
    "merged_df = pd.concat([data, simulated_data], ignore_index=True)"
   ]
  },
  {
   "cell_type": "code",
   "execution_count": 71,
   "id": "35ce4047",
   "metadata": {},
   "outputs": [
    {
     "name": "stdout",
     "output_type": "stream",
     "text": [
      "       crop  moisture  temp  pump\n",
      "0    cotton       638    16     1\n",
      "1    cotton       522    18     1\n",
      "2    cotton       741    22     1\n",
      "3    cotton       798    32     1\n",
      "4    cotton       690    28     1\n",
      "..      ...       ...   ...   ...\n",
      "395  cotton       672    40     1\n",
      "396  cotton      1012    30     0\n",
      "397  cotton       713    20     1\n",
      "398  cotton      1018    26     0\n",
      "399  cotton       532    43     0\n",
      "\n",
      "[400 rows x 4 columns]\n"
     ]
    }
   ],
   "source": [
    "print(merged_df)"
   ]
  },
  {
   "cell_type": "code",
   "execution_count": 72,
   "id": "5eb7a27f",
   "metadata": {},
   "outputs": [],
   "source": [
    "X = merged_df[['moisture', 'temp']]\n",
    "y = merged_df['pump']"
   ]
  },
  {
   "cell_type": "code",
   "execution_count": 73,
   "id": "fb74e935",
   "metadata": {},
   "outputs": [],
   "source": [
    "# Split the data into training and testing sets\n",
    "X_train, X_test, y_train, y_test = train_test_split(X, y, test_size=0.2, random_state=42)"
   ]
  },
  {
   "cell_type": "code",
   "execution_count": 74,
   "id": "4bdbe635",
   "metadata": {},
   "outputs": [
    {
     "data": {
      "text/html": [
       "<style>#sk-container-id-4 {color: black;}#sk-container-id-4 pre{padding: 0;}#sk-container-id-4 div.sk-toggleable {background-color: white;}#sk-container-id-4 label.sk-toggleable__label {cursor: pointer;display: block;width: 100%;margin-bottom: 0;padding: 0.3em;box-sizing: border-box;text-align: center;}#sk-container-id-4 label.sk-toggleable__label-arrow:before {content: \"▸\";float: left;margin-right: 0.25em;color: #696969;}#sk-container-id-4 label.sk-toggleable__label-arrow:hover:before {color: black;}#sk-container-id-4 div.sk-estimator:hover label.sk-toggleable__label-arrow:before {color: black;}#sk-container-id-4 div.sk-toggleable__content {max-height: 0;max-width: 0;overflow: hidden;text-align: left;background-color: #f0f8ff;}#sk-container-id-4 div.sk-toggleable__content pre {margin: 0.2em;color: black;border-radius: 0.25em;background-color: #f0f8ff;}#sk-container-id-4 input.sk-toggleable__control:checked~div.sk-toggleable__content {max-height: 200px;max-width: 100%;overflow: auto;}#sk-container-id-4 input.sk-toggleable__control:checked~label.sk-toggleable__label-arrow:before {content: \"▾\";}#sk-container-id-4 div.sk-estimator input.sk-toggleable__control:checked~label.sk-toggleable__label {background-color: #d4ebff;}#sk-container-id-4 div.sk-label input.sk-toggleable__control:checked~label.sk-toggleable__label {background-color: #d4ebff;}#sk-container-id-4 input.sk-hidden--visually {border: 0;clip: rect(1px 1px 1px 1px);clip: rect(1px, 1px, 1px, 1px);height: 1px;margin: -1px;overflow: hidden;padding: 0;position: absolute;width: 1px;}#sk-container-id-4 div.sk-estimator {font-family: monospace;background-color: #f0f8ff;border: 1px dotted black;border-radius: 0.25em;box-sizing: border-box;margin-bottom: 0.5em;}#sk-container-id-4 div.sk-estimator:hover {background-color: #d4ebff;}#sk-container-id-4 div.sk-parallel-item::after {content: \"\";width: 100%;border-bottom: 1px solid gray;flex-grow: 1;}#sk-container-id-4 div.sk-label:hover label.sk-toggleable__label {background-color: #d4ebff;}#sk-container-id-4 div.sk-serial::before {content: \"\";position: absolute;border-left: 1px solid gray;box-sizing: border-box;top: 0;bottom: 0;left: 50%;z-index: 0;}#sk-container-id-4 div.sk-serial {display: flex;flex-direction: column;align-items: center;background-color: white;padding-right: 0.2em;padding-left: 0.2em;position: relative;}#sk-container-id-4 div.sk-item {position: relative;z-index: 1;}#sk-container-id-4 div.sk-parallel {display: flex;align-items: stretch;justify-content: center;background-color: white;position: relative;}#sk-container-id-4 div.sk-item::before, #sk-container-id-4 div.sk-parallel-item::before {content: \"\";position: absolute;border-left: 1px solid gray;box-sizing: border-box;top: 0;bottom: 0;left: 50%;z-index: -1;}#sk-container-id-4 div.sk-parallel-item {display: flex;flex-direction: column;z-index: 1;position: relative;background-color: white;}#sk-container-id-4 div.sk-parallel-item:first-child::after {align-self: flex-end;width: 50%;}#sk-container-id-4 div.sk-parallel-item:last-child::after {align-self: flex-start;width: 50%;}#sk-container-id-4 div.sk-parallel-item:only-child::after {width: 0;}#sk-container-id-4 div.sk-dashed-wrapped {border: 1px dashed gray;margin: 0 0.4em 0.5em 0.4em;box-sizing: border-box;padding-bottom: 0.4em;background-color: white;}#sk-container-id-4 div.sk-label label {font-family: monospace;font-weight: bold;display: inline-block;line-height: 1.2em;}#sk-container-id-4 div.sk-label-container {text-align: center;}#sk-container-id-4 div.sk-container {/* jupyter's `normalize.less` sets `[hidden] { display: none; }` but bootstrap.min.css set `[hidden] { display: none !important; }` so we also need the `!important` here to be able to override the default hidden behavior on the sphinx rendered scikit-learn.org. See: https://github.com/scikit-learn/scikit-learn/issues/21755 */display: inline-block !important;position: relative;}#sk-container-id-4 div.sk-text-repr-fallback {display: none;}</style><div id=\"sk-container-id-4\" class=\"sk-top-container\"><div class=\"sk-text-repr-fallback\"><pre>RandomForestClassifier(random_state=42)</pre><b>In a Jupyter environment, please rerun this cell to show the HTML representation or trust the notebook. <br />On GitHub, the HTML representation is unable to render, please try loading this page with nbviewer.org.</b></div><div class=\"sk-container\" hidden><div class=\"sk-item\"><div class=\"sk-estimator sk-toggleable\"><input class=\"sk-toggleable__control sk-hidden--visually\" id=\"sk-estimator-id-4\" type=\"checkbox\" checked><label for=\"sk-estimator-id-4\" class=\"sk-toggleable__label sk-toggleable__label-arrow\">RandomForestClassifier</label><div class=\"sk-toggleable__content\"><pre>RandomForestClassifier(random_state=42)</pre></div></div></div></div></div>"
      ],
      "text/plain": [
       "RandomForestClassifier(random_state=42)"
      ]
     },
     "execution_count": 74,
     "metadata": {},
     "output_type": "execute_result"
    }
   ],
   "source": [
    "# Build and train Random Forest model\n",
    "rf_model = RandomForestClassifier(n_estimators=100, random_state=42)\n",
    "rf_model.fit(X_train, y_train)"
   ]
  },
  {
   "cell_type": "code",
   "execution_count": 75,
   "id": "b886b563",
   "metadata": {},
   "outputs": [],
   "source": [
    "# Predict using Random Forest model\n",
    "rf_predictions = rf_model.predict(X_test)"
   ]
  },
  {
   "cell_type": "code",
   "execution_count": 76,
   "id": "41f2df52",
   "metadata": {},
   "outputs": [],
   "source": [
    "# Calculate accuracy for Random Forest model\n",
    "rf_accuracy = accuracy_score(y_test, rf_predictions)\n",
    "\n",
    "# Calculate precision\n",
    "precision = precision_score(y_test, rf_predictions)\n",
    "\n",
    "# Calculate F1-score\n",
    "f1 = f1_score(y_test, rf_predictions)\n"
   ]
  },
  {
   "cell_type": "code",
   "execution_count": 77,
   "id": "9f539e20",
   "metadata": {},
   "outputs": [
    {
     "name": "stdout",
     "output_type": "stream",
     "text": [
      "Random Forest Accuracy: 0.76\n",
      "Precision: 0.80\n",
      "F1 Score: 0.81\n"
     ]
    }
   ],
   "source": [
    "# Print the results\n",
    "print(f'Random Forest Accuracy: {rf_accuracy:.2f}')\n",
    "print(f'Precision: {precision:.2f}')\n",
    "print(f'F1 Score: {f1:.2f}')"
   ]
  },
  {
   "cell_type": "code",
   "execution_count": 78,
   "id": "446bda8e",
   "metadata": {},
   "outputs": [
    {
     "data": {
      "text/html": [
       "<style>#sk-container-id-5 {color: black;}#sk-container-id-5 pre{padding: 0;}#sk-container-id-5 div.sk-toggleable {background-color: white;}#sk-container-id-5 label.sk-toggleable__label {cursor: pointer;display: block;width: 100%;margin-bottom: 0;padding: 0.3em;box-sizing: border-box;text-align: center;}#sk-container-id-5 label.sk-toggleable__label-arrow:before {content: \"▸\";float: left;margin-right: 0.25em;color: #696969;}#sk-container-id-5 label.sk-toggleable__label-arrow:hover:before {color: black;}#sk-container-id-5 div.sk-estimator:hover label.sk-toggleable__label-arrow:before {color: black;}#sk-container-id-5 div.sk-toggleable__content {max-height: 0;max-width: 0;overflow: hidden;text-align: left;background-color: #f0f8ff;}#sk-container-id-5 div.sk-toggleable__content pre {margin: 0.2em;color: black;border-radius: 0.25em;background-color: #f0f8ff;}#sk-container-id-5 input.sk-toggleable__control:checked~div.sk-toggleable__content {max-height: 200px;max-width: 100%;overflow: auto;}#sk-container-id-5 input.sk-toggleable__control:checked~label.sk-toggleable__label-arrow:before {content: \"▾\";}#sk-container-id-5 div.sk-estimator input.sk-toggleable__control:checked~label.sk-toggleable__label {background-color: #d4ebff;}#sk-container-id-5 div.sk-label input.sk-toggleable__control:checked~label.sk-toggleable__label {background-color: #d4ebff;}#sk-container-id-5 input.sk-hidden--visually {border: 0;clip: rect(1px 1px 1px 1px);clip: rect(1px, 1px, 1px, 1px);height: 1px;margin: -1px;overflow: hidden;padding: 0;position: absolute;width: 1px;}#sk-container-id-5 div.sk-estimator {font-family: monospace;background-color: #f0f8ff;border: 1px dotted black;border-radius: 0.25em;box-sizing: border-box;margin-bottom: 0.5em;}#sk-container-id-5 div.sk-estimator:hover {background-color: #d4ebff;}#sk-container-id-5 div.sk-parallel-item::after {content: \"\";width: 100%;border-bottom: 1px solid gray;flex-grow: 1;}#sk-container-id-5 div.sk-label:hover label.sk-toggleable__label {background-color: #d4ebff;}#sk-container-id-5 div.sk-serial::before {content: \"\";position: absolute;border-left: 1px solid gray;box-sizing: border-box;top: 0;bottom: 0;left: 50%;z-index: 0;}#sk-container-id-5 div.sk-serial {display: flex;flex-direction: column;align-items: center;background-color: white;padding-right: 0.2em;padding-left: 0.2em;position: relative;}#sk-container-id-5 div.sk-item {position: relative;z-index: 1;}#sk-container-id-5 div.sk-parallel {display: flex;align-items: stretch;justify-content: center;background-color: white;position: relative;}#sk-container-id-5 div.sk-item::before, #sk-container-id-5 div.sk-parallel-item::before {content: \"\";position: absolute;border-left: 1px solid gray;box-sizing: border-box;top: 0;bottom: 0;left: 50%;z-index: -1;}#sk-container-id-5 div.sk-parallel-item {display: flex;flex-direction: column;z-index: 1;position: relative;background-color: white;}#sk-container-id-5 div.sk-parallel-item:first-child::after {align-self: flex-end;width: 50%;}#sk-container-id-5 div.sk-parallel-item:last-child::after {align-self: flex-start;width: 50%;}#sk-container-id-5 div.sk-parallel-item:only-child::after {width: 0;}#sk-container-id-5 div.sk-dashed-wrapped {border: 1px dashed gray;margin: 0 0.4em 0.5em 0.4em;box-sizing: border-box;padding-bottom: 0.4em;background-color: white;}#sk-container-id-5 div.sk-label label {font-family: monospace;font-weight: bold;display: inline-block;line-height: 1.2em;}#sk-container-id-5 div.sk-label-container {text-align: center;}#sk-container-id-5 div.sk-container {/* jupyter's `normalize.less` sets `[hidden] { display: none; }` but bootstrap.min.css set `[hidden] { display: none !important; }` so we also need the `!important` here to be able to override the default hidden behavior on the sphinx rendered scikit-learn.org. See: https://github.com/scikit-learn/scikit-learn/issues/21755 */display: inline-block !important;position: relative;}#sk-container-id-5 div.sk-text-repr-fallback {display: none;}</style><div id=\"sk-container-id-5\" class=\"sk-top-container\"><div class=\"sk-text-repr-fallback\"><pre>KNeighborsClassifier()</pre><b>In a Jupyter environment, please rerun this cell to show the HTML representation or trust the notebook. <br />On GitHub, the HTML representation is unable to render, please try loading this page with nbviewer.org.</b></div><div class=\"sk-container\" hidden><div class=\"sk-item\"><div class=\"sk-estimator sk-toggleable\"><input class=\"sk-toggleable__control sk-hidden--visually\" id=\"sk-estimator-id-5\" type=\"checkbox\" checked><label for=\"sk-estimator-id-5\" class=\"sk-toggleable__label sk-toggleable__label-arrow\">KNeighborsClassifier</label><div class=\"sk-toggleable__content\"><pre>KNeighborsClassifier()</pre></div></div></div></div></div>"
      ],
      "text/plain": [
       "KNeighborsClassifier()"
      ]
     },
     "execution_count": 78,
     "metadata": {},
     "output_type": "execute_result"
    }
   ],
   "source": [
    "# Build and train k-Nearest Neighbors model\n",
    "knn_model = KNeighborsClassifier(n_neighbors=5)\n",
    "knn_model.fit(X_train, y_train)"
   ]
  },
  {
   "cell_type": "code",
   "execution_count": 79,
   "id": "f9eaa309",
   "metadata": {},
   "outputs": [],
   "source": [
    "# Predict using k-Nearest Neighbors model\n",
    "knn_predictions = knn_model.predict(X_test)"
   ]
  },
  {
   "cell_type": "code",
   "execution_count": 80,
   "id": "0bc67ad2",
   "metadata": {},
   "outputs": [],
   "source": [
    "# Calculate accuracy for k-Nearest Neighbors model\n",
    "knn_accuracy = accuracy_score(y_test, knn_predictions)\n",
    "\n",
    "# Calculate precision\n",
    "precision = precision_score(y_test, knn_predictions)\n",
    "\n",
    "# Calculate F1-score\n",
    "f1 = f1_score(y_test, knn_predictions)\n"
   ]
  },
  {
   "cell_type": "code",
   "execution_count": 81,
   "id": "495fc178",
   "metadata": {},
   "outputs": [
    {
     "name": "stdout",
     "output_type": "stream",
     "text": [
      "knn Accuracy: 0.78\n",
      "Precision: 0.79\n",
      "F1 Score: 0.83\n"
     ]
    }
   ],
   "source": [
    "# Print the results\n",
    "print(f'knn Accuracy: {knn_accuracy:.2f}')\n",
    "print(f'Precision: {precision:.2f}')\n",
    "print(f'F1 Score: {f1:.2f}')"
   ]
  },
  {
   "cell_type": "code",
   "execution_count": 82,
   "id": "43fbf4f9",
   "metadata": {},
   "outputs": [],
   "source": [
    "####Research Question 2: How can machine learning models be trained and validated using the combined data from \n",
    "###                      existing IoT datasets and simulators to predict optimal conditions for crop yield based on soil and\n",
    "###                      moisture metrics?\n"
   ]
  },
  {
   "cell_type": "code",
   "execution_count": 83,
   "id": "d6aa9f18",
   "metadata": {},
   "outputs": [],
   "source": [
    "####   By using a more comprehensive dataset we can improve the accuracy and generalization \n",
    "###    ability of your machine learning models. \n",
    "###       accuracy while using  iot data = 1 \n",
    "##        for merged data = 0.7"
   ]
  },
  {
   "cell_type": "code",
   "execution_count": 84,
   "id": "3f4940e6",
   "metadata": {},
   "outputs": [],
   "source": [
    "## k fold validation"
   ]
  },
  {
   "cell_type": "code",
   "execution_count": 85,
   "id": "98fe757a",
   "metadata": {},
   "outputs": [],
   "source": [
    "from sklearn.model_selection import KFold"
   ]
  },
  {
   "cell_type": "code",
   "execution_count": 86,
   "id": "22787f8d",
   "metadata": {},
   "outputs": [],
   "source": [
    "# Initialize KFold object\n",
    "k = 5  # Example: 5-fold cross-validation\n",
    "kf = KFold(n_splits=k, shuffle=True, random_state=42)"
   ]
  },
  {
   "cell_type": "code",
   "execution_count": 87,
   "id": "bd8b53b3",
   "metadata": {},
   "outputs": [],
   "source": [
    "# Initialize a list to store evaluation scores\n",
    "scores = []"
   ]
  },
  {
   "cell_type": "code",
   "execution_count": 88,
   "id": "7ac877fc",
   "metadata": {},
   "outputs": [],
   "source": [
    "# Iterate through the K-Fold splits\n",
    "for train_index, test_index in kf.split(X):\n",
    "    X_train, X_test = X.iloc[train_index], X.iloc[test_index]\n",
    "    y_train, y_test = y.iloc[train_index], y.iloc[test_index]\n",
    "    \n",
    "    # Train Random Forest Classifier\n",
    "    rf_model = RandomForestClassifier(random_state=42)\n",
    "    rf_model.fit(X_train, y_train)\n",
    "    \n",
    "    # Predict\n",
    "    y_pred = rf_model.predict(X_test)\n",
    "    \n",
    "    # Calculate accuracy score\n",
    "    score = accuracy_score(y_test, y_pred)\n",
    "    \n",
    "    # Append the score to the list of scores\n",
    "    scores.append(score)\n"
   ]
  },
  {
   "cell_type": "code",
   "execution_count": 89,
   "id": "8dbf9b37",
   "metadata": {},
   "outputs": [
    {
     "name": "stdout",
     "output_type": "stream",
     "text": [
      "Average Accuracy Score: 0.6975\n"
     ]
    }
   ],
   "source": [
    "# Calculate and print the average score\n",
    "average_score = sum(scores) / len(scores)\n",
    "print(f'Average Accuracy Score: {average_score}')"
   ]
  },
  {
   "cell_type": "code",
   "execution_count": null,
   "id": "b318f5d7",
   "metadata": {},
   "outputs": [],
   "source": [
    "### accuracy score :  provides an estimate of how well the model is likely to perform on new, unseen data\n",
    "####                  reduce the impact of variability that may occur when using a single train-test split"
   ]
  },
  {
   "cell_type": "code",
   "execution_count": 45,
   "id": "e1b3d749",
   "metadata": {},
   "outputs": [],
   "source": [
    "##########################################################################################################"
   ]
  },
  {
   "cell_type": "code",
   "execution_count": 46,
   "id": "2e2bc9a8",
   "metadata": {},
   "outputs": [],
   "source": [
    "#####   Objective 3: To validate the machine learning model's predictions with real-world agricultural outcomes and \n",
    "###                  refine the model based on feedback loops.\n"
   ]
  },
  {
   "cell_type": "code",
   "execution_count": null,
   "id": "485cccb4",
   "metadata": {},
   "outputs": [],
   "source": [
    "####  Research Question 3: How can the predictions of the machine learning model be cross-verified with actual\n",
    "###      agricultural outcomes, and how can this feedback be integrated to enhance the model's accuracy and reliability?"
   ]
  },
  {
   "cell_type": "code",
   "execution_count": 90,
   "id": "4e05228e",
   "metadata": {},
   "outputs": [
    {
     "name": "stdout",
     "output_type": "stream",
     "text": [
      "     Actual  Predicted\n",
      "1         1          0\n",
      "13        1          0\n",
      "20        1          1\n",
      "21        1          1\n",
      "34        1          1\n",
      "..      ...        ...\n",
      "383       0          0\n",
      "390       0          1\n",
      "393       1          0\n",
      "397       1          1\n",
      "399       0          1\n",
      "\n",
      "[80 rows x 2 columns]\n"
     ]
    }
   ],
   "source": [
    "# Create a DataFrame to compare actual and predicted values\n",
    "comparison_df = pd.DataFrame({'Actual': y_test, 'Predicted': rf_predictions })\n",
    "\n",
    "# Display the DataFrame\n",
    "print(comparison_df)"
   ]
  },
  {
   "cell_type": "code",
   "execution_count": 91,
   "id": "9721888d",
   "metadata": {},
   "outputs": [],
   "source": []
  },
  {
   "cell_type": "code",
   "execution_count": 49,
   "id": "5f0d0742",
   "metadata": {},
   "outputs": [],
   "source": [
    "### to cross verify ML model with actual scenario we have to do the following steps \n",
    "#  gather real world agricultural data and deploy the model in real scenario and evalute the performance of the model \n",
    "#  compare the actual and predicted values \n",
    "#  make necessary adjustments to the  model "
   ]
  },
  {
   "cell_type": "code",
   "execution_count": 50,
   "id": "1cb5271e",
   "metadata": {},
   "outputs": [],
   "source": [
    "#############################################"
   ]
  },
  {
   "cell_type": "code",
   "execution_count": 51,
   "id": "e3fe5ce3",
   "metadata": {},
   "outputs": [],
   "source": [
    "\n",
    "####  Objective 4: To assess the scalability and adaptability of the machine learning model across diverse \n",
    "###                 agricultural environments and crop types.\n",
    "\n"
   ]
  },
  {
   "cell_type": "code",
   "execution_count": 52,
   "id": "ed1710de",
   "metadata": {},
   "outputs": [],
   "source": [
    "#### Research Question 4: How can the developed machine learning model be adapted and scaled to cater to various\n",
    "###                       agricultural environments and different crop types, ensuring its broad applicability?"
   ]
  },
  {
   "cell_type": "code",
   "execution_count": 53,
   "id": "95be34b7",
   "metadata": {},
   "outputs": [],
   "source": [
    "###      Incorporate domain-specific knowledge from agronomists, crop scientists, and agricultural experts to \n",
    "###      enhance the model's understanding of different crops and environments."
   ]
  },
  {
   "cell_type": "code",
   "execution_count": 54,
   "id": "a6f2bfe5",
   "metadata": {},
   "outputs": [],
   "source": [
    "####     Implement adaptive learning techniques that allow the model to dynamically adjust its behavior based on the \n",
    "###       specific characteristics of the agricultural environment it is deployed in."
   ]
  },
  {
   "cell_type": "code",
   "execution_count": 55,
   "id": "274c2607",
   "metadata": {},
   "outputs": [],
   "source": [
    "###      Establish a system for monitoring the model's performance in different environments. Regularly update the model\n",
    "####     based on new data and feedback from users."
   ]
  },
  {
   "cell_type": "code",
   "execution_count": 56,
   "id": "3f75d9db",
   "metadata": {},
   "outputs": [],
   "source": [
    "###      Collaborate with agricultural stakeholders, including farmers, agronomists, and agricultural organizations,\n",
    "####     to gather insights and feedback on the model's performance in diverse settings."
   ]
  },
  {
   "cell_type": "code",
   "execution_count": 57,
   "id": "0931d77b",
   "metadata": {},
   "outputs": [],
   "source": [
    "###      Provide clear documentation and guidelines on how to adapt and deploy the model in different agricultural \n",
    "###      environments. This will help users implement the model effectively."
   ]
  },
  {
   "cell_type": "code",
   "execution_count": null,
   "id": "4379183b",
   "metadata": {},
   "outputs": [],
   "source": []
  },
  {
   "cell_type": "code",
   "execution_count": null,
   "id": "010b1c58",
   "metadata": {},
   "outputs": [],
   "source": []
  },
  {
   "cell_type": "code",
   "execution_count": null,
   "id": "52459a46",
   "metadata": {},
   "outputs": [],
   "source": []
  }
 ],
 "metadata": {
  "kernelspec": {
   "display_name": "Python 3 (ipykernel)",
   "language": "python",
   "name": "python3"
  },
  "language_info": {
   "codemirror_mode": {
    "name": "ipython",
    "version": 3
   },
   "file_extension": ".py",
   "mimetype": "text/x-python",
   "name": "python",
   "nbconvert_exporter": "python",
   "pygments_lexer": "ipython3",
   "version": "3.10.9"
  }
 },
 "nbformat": 4,
 "nbformat_minor": 5
}
